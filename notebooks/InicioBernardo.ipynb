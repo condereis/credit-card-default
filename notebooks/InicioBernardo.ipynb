{
 "cells": [
  {
   "cell_type": "code",
   "execution_count": 1,
   "metadata": {
    "collapsed": true
   },
   "outputs": [],
   "source": [
    "from sklearn.metrics import confusion_matrix\n",
    "import numpy as np\n",
    "import pandas as pd\n",
    "import seaborn as sns\n",
    "import matplotlib.pyplot as plt\n",
    "\n",
    "from scipy.stats import lognorm\n",
    "from sklearn import svm\n",
    "from sklearn.decomposition import PCA\n",
    "from sklearn.linear_model import LogisticRegression\n",
    "from sklearn.metrics import confusion_matrix\n",
    "from sklearn.model_selection import cross_val_score, train_test_split\n",
    "from sklearn.model_selection import GridSearchCV\n",
    "from sklearn.model_selection import RandomizedSearchCV\n",
    "from sklearn.naive_bayes import GaussianNB\n",
    "import random\n",
    "import math"
   ]
  },
  {
   "cell_type": "code",
   "execution_count": 2,
   "metadata": {
    "collapsed": true
   },
   "outputs": [],
   "source": [
    "def splitDataset(dataset, splitRatio):\n",
    "    sorteio = range(0,dataset.shape[0])\n",
    "    trainData = random.sample(sorteio, math.floor(dataset.shape[0]*splitRatio))#dataset.index, math.floor(dataset.shape[0]*index))\n",
    "    trainSet = dataset.iloc[trainData]\n",
    "    testData = [item for item in sorteio if item not in trainData]\n",
    "    testSet = dataset.iloc[testData]\n",
    "    return [trainSet, testSet]"
   ]
  },
  {
   "cell_type": "code",
   "execution_count": 3,
   "metadata": {
    "collapsed": false
   },
   "outputs": [
    {
     "name": "stdout",
     "output_type": "stream",
     "text": [
      "500\n",
      "24\n",
      "400\n",
      "100\n",
      "SOAKENS\n",
      "33\n",
      "-----ssk-s-----\n",
      "[[25 50]\n",
      " [ 9 16]]\n"
     ]
    },
    {
     "name": "stderr",
     "output_type": "stream",
     "text": [
      "/usr/lib/python3.5/site-packages/sklearn/utils/validation.py:526: DataConversionWarning: A column-vector y was passed when a 1d array was expected. Please change the shape of y to (n_samples, ), for example using ravel().\n",
      "  y = column_or_1d(y, warn=True)\n"
     ]
    }
   ],
   "source": [
    "dataset = pd.read_excel('rawS.xls', decimal='.', index_col=0)\n",
    "print(dataset.shape[0])\n",
    "print(dataset.shape[1])\n",
    "    \n",
    "    \n",
    "splitRatio = 0.8\n",
    "classificados = mat=[[]for x in range(len(dataset))]\n",
    "\n",
    "rep=1\n",
    "mat=[[]for x in range(rep)]\n",
    "ac=[0 for y in range(rep)]\n",
    "resultado = [[]for x in range(rep)]#[0 for y in range(objetivo)]\n",
    "for q in range(rep):\n",
    "    treino, teste = splitDataset(dataset, splitRatio)\n",
    "    print(treino.shape[0])\n",
    "    print(teste.shape[0])\n",
    "    model = GaussianNB()\n",
    "    dataTreino=treino.ix[:,:(treino.shape[1])]\n",
    "    targetTreino=treino[['default.payment.next.month']]\n",
    "    dataTeste=teste.ix[:,:(teste.shape[1])]\n",
    "    targetTeste=teste[['default.payment.next.month']]\n",
    "    model = GaussianNB()\n",
    "    model.fit(dataTreino, targetTreino)\n",
    "    predicted= model.predict(dataTeste)\n",
    "    resultado[q]=predicted\n",
    "    mat[q]=confusion_matrix(targetTeste, predicted)\n",
    "    print(mat[q])\n",
    "    classificados[q]=predicted\n"
   ]
  },
  {
   "cell_type": "code",
   "execution_count": null,
   "metadata": {
    "collapsed": true
   },
   "outputs": [],
   "source": []
  }
 ],
 "metadata": {
  "kernelspec": {
   "display_name": "Python 3",
   "language": "python",
   "name": "python3"
  },
  "language_info": {
   "codemirror_mode": {
    "name": "ipython",
    "version": 3
   },
   "file_extension": ".py",
   "mimetype": "text/x-python",
   "name": "python",
   "nbconvert_exporter": "python",
   "pygments_lexer": "ipython3",
   "version": "3.5.2"
  }
 },
 "nbformat": 4,
 "nbformat_minor": 1
}
